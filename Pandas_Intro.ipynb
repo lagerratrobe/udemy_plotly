{
 "cells": [
  {
   "cell_type": "markdown",
   "metadata": {},
   "source": [
    "# Pandas Introduction"
   ]
  },
  {
   "cell_type": "code",
   "execution_count": 1,
   "metadata": {
    "collapsed": true
   },
   "outputs": [],
   "source": [
    "import pandas as pd\n",
    "from pandas import DataFrame"
   ]
  },
  {
   "cell_type": "code",
   "execution_count": 2,
   "metadata": {
    "collapsed": true,
    "scrolled": true
   },
   "outputs": [],
   "source": [
    "# Read CSV into Pandas\n",
    "baseRateData = pd.read_csv(\"Lessons/01-Intro_to_Python/BoEBaseRate.csv\")"
   ]
  },
  {
   "cell_type": "code",
   "execution_count": 3,
   "metadata": {},
   "outputs": [
    {
     "data": {
      "text/html": [
       "<div>\n",
       "<style>\n",
       "    .dataframe thead tr:only-child th {\n",
       "        text-align: right;\n",
       "    }\n",
       "\n",
       "    .dataframe thead th {\n",
       "        text-align: left;\n",
       "    }\n",
       "\n",
       "    .dataframe tbody tr th {\n",
       "        vertical-align: top;\n",
       "    }\n",
       "</style>\n",
       "<table border=\"1\" class=\"dataframe\">\n",
       "  <thead>\n",
       "    <tr style=\"text-align: right;\">\n",
       "      <th></th>\n",
       "      <th>VALUE</th>\n",
       "      <th>DATE</th>\n",
       "    </tr>\n",
       "  </thead>\n",
       "  <tbody>\n",
       "    <tr>\n",
       "      <th>0</th>\n",
       "      <td>11.5</td>\n",
       "      <td>1/2/1975</td>\n",
       "    </tr>\n",
       "    <tr>\n",
       "      <th>1</th>\n",
       "      <td>11.5</td>\n",
       "      <td>1/3/1975</td>\n",
       "    </tr>\n",
       "    <tr>\n",
       "      <th>2</th>\n",
       "      <td>11.5</td>\n",
       "      <td>1/6/1975</td>\n",
       "    </tr>\n",
       "    <tr>\n",
       "      <th>3</th>\n",
       "      <td>11.5</td>\n",
       "      <td>1/7/1975</td>\n",
       "    </tr>\n",
       "    <tr>\n",
       "      <th>4</th>\n",
       "      <td>11.5</td>\n",
       "      <td>1/8/1975</td>\n",
       "    </tr>\n",
       "  </tbody>\n",
       "</table>\n",
       "</div>"
      ],
      "text/plain": [
       "   VALUE      DATE\n",
       "0   11.5  1/2/1975\n",
       "1   11.5  1/3/1975\n",
       "2   11.5  1/6/1975\n",
       "3   11.5  1/7/1975\n",
       "4   11.5  1/8/1975"
      ]
     },
     "execution_count": 3,
     "metadata": {},
     "output_type": "execute_result"
    }
   ],
   "source": [
    "# Top rows of the dataframe\n",
    "baseRateData.head()"
   ]
  },
  {
   "cell_type": "code",
   "execution_count": 4,
   "metadata": {},
   "outputs": [
    {
     "data": {
      "text/html": [
       "<div>\n",
       "<style>\n",
       "    .dataframe thead tr:only-child th {\n",
       "        text-align: right;\n",
       "    }\n",
       "\n",
       "    .dataframe thead th {\n",
       "        text-align: left;\n",
       "    }\n",
       "\n",
       "    .dataframe tbody tr th {\n",
       "        vertical-align: top;\n",
       "    }\n",
       "</style>\n",
       "<table border=\"1\" class=\"dataframe\">\n",
       "  <thead>\n",
       "    <tr style=\"text-align: right;\">\n",
       "      <th></th>\n",
       "      <th>VALUE</th>\n",
       "      <th>DATE</th>\n",
       "    </tr>\n",
       "  </thead>\n",
       "  <tbody>\n",
       "    <tr>\n",
       "      <th>10481</th>\n",
       "      <td>0.5</td>\n",
       "      <td>6/17/2016</td>\n",
       "    </tr>\n",
       "    <tr>\n",
       "      <th>10482</th>\n",
       "      <td>0.5</td>\n",
       "      <td>6/20/2016</td>\n",
       "    </tr>\n",
       "    <tr>\n",
       "      <th>10483</th>\n",
       "      <td>0.5</td>\n",
       "      <td>6/21/2016</td>\n",
       "    </tr>\n",
       "    <tr>\n",
       "      <th>10484</th>\n",
       "      <td>0.5</td>\n",
       "      <td>6/22/2016</td>\n",
       "    </tr>\n",
       "    <tr>\n",
       "      <th>10485</th>\n",
       "      <td>0.5</td>\n",
       "      <td>6/23/2016</td>\n",
       "    </tr>\n",
       "  </tbody>\n",
       "</table>\n",
       "</div>"
      ],
      "text/plain": [
       "       VALUE       DATE\n",
       "10481    0.5  6/17/2016\n",
       "10482    0.5  6/20/2016\n",
       "10483    0.5  6/21/2016\n",
       "10484    0.5  6/22/2016\n",
       "10485    0.5  6/23/2016"
      ]
     },
     "execution_count": 4,
     "metadata": {},
     "output_type": "execute_result"
    }
   ],
   "source": [
    "# Bottom rows of the dataframe\n",
    "baseRateData.tail()"
   ]
  },
  {
   "cell_type": "code",
   "execution_count": 5,
   "metadata": {},
   "outputs": [
    {
     "name": "stdout",
     "output_type": "stream",
     "text": [
      "<class 'pandas.core.frame.DataFrame'>\n",
      "RangeIndex: 10486 entries, 0 to 10485\n",
      "Data columns (total 2 columns):\n",
      "VALUE    10486 non-null float64\n",
      "DATE     10486 non-null object\n",
      "dtypes: float64(1), object(1)\n",
      "memory usage: 163.9+ KB\n"
     ]
    }
   ],
   "source": [
    "# To get the feature count, column names and data types\n",
    "baseRateData.info()"
   ]
  },
  {
   "cell_type": "code",
   "execution_count": 6,
   "metadata": {},
   "outputs": [
    {
     "data": {
      "text/html": [
       "<div>\n",
       "<style>\n",
       "    .dataframe thead tr:only-child th {\n",
       "        text-align: right;\n",
       "    }\n",
       "\n",
       "    .dataframe thead th {\n",
       "        text-align: left;\n",
       "    }\n",
       "\n",
       "    .dataframe tbody tr th {\n",
       "        vertical-align: top;\n",
       "    }\n",
       "</style>\n",
       "<table border=\"1\" class=\"dataframe\">\n",
       "  <thead>\n",
       "    <tr style=\"text-align: right;\">\n",
       "      <th></th>\n",
       "      <th>VALUE</th>\n",
       "    </tr>\n",
       "  </thead>\n",
       "  <tbody>\n",
       "    <tr>\n",
       "      <th>count</th>\n",
       "      <td>10486.000000</td>\n",
       "    </tr>\n",
       "    <tr>\n",
       "      <th>mean</th>\n",
       "      <td>7.135085</td>\n",
       "    </tr>\n",
       "    <tr>\n",
       "      <th>std</th>\n",
       "      <td>4.515003</td>\n",
       "    </tr>\n",
       "    <tr>\n",
       "      <th>min</th>\n",
       "      <td>0.500000</td>\n",
       "    </tr>\n",
       "    <tr>\n",
       "      <th>25%</th>\n",
       "      <td>4.500000</td>\n",
       "    </tr>\n",
       "    <tr>\n",
       "      <th>50%</th>\n",
       "      <td>6.125000</td>\n",
       "    </tr>\n",
       "    <tr>\n",
       "      <th>75%</th>\n",
       "      <td>10.562500</td>\n",
       "    </tr>\n",
       "    <tr>\n",
       "      <th>max</th>\n",
       "      <td>17.000000</td>\n",
       "    </tr>\n",
       "  </tbody>\n",
       "</table>\n",
       "</div>"
      ],
      "text/plain": [
       "              VALUE\n",
       "count  10486.000000\n",
       "mean       7.135085\n",
       "std        4.515003\n",
       "min        0.500000\n",
       "25%        4.500000\n",
       "50%        6.125000\n",
       "75%       10.562500\n",
       "max       17.000000"
      ]
     },
     "execution_count": 6,
     "metadata": {},
     "output_type": "execute_result"
    }
   ],
   "source": [
    "# To get a statistical summary of the numeric columns in a dataframe\n",
    "baseRateData.describe()"
   ]
  },
  {
   "cell_type": "code",
   "execution_count": 7,
   "metadata": {},
   "outputs": [
    {
     "data": {
      "text/plain": [
       "['VALUE', 'DATE']"
      ]
     },
     "execution_count": 7,
     "metadata": {},
     "output_type": "execute_result"
    }
   ],
   "source": [
    "# To view just the column names\n",
    "baseRateData.columns.tolist()"
   ]
  },
  {
   "cell_type": "code",
   "execution_count": 8,
   "metadata": {},
   "outputs": [
    {
     "data": {
      "text/plain": [
       "0    11.5\n",
       "1    11.5\n",
       "2    11.5\n",
       "3    11.5\n",
       "4    11.5\n",
       "5    11.5\n",
       "6    11.5\n",
       "7    11.5\n",
       "8    11.5\n",
       "9    11.5\n",
       "Name: VALUE, dtype: float64"
      ]
     },
     "execution_count": 8,
     "metadata": {},
     "output_type": "execute_result"
    }
   ],
   "source": [
    "# To access the data in a single column by name as a key entry:\n",
    "baseRateData['VALUE'][0:10]"
   ]
  },
  {
   "cell_type": "code",
   "execution_count": 9,
   "metadata": {},
   "outputs": [
    {
     "data": {
      "text/plain": [
       "0    11.5\n",
       "1    11.5\n",
       "2    11.5\n",
       "3    11.5\n",
       "4    11.5\n",
       "5    11.5\n",
       "6    11.5\n",
       "7    11.5\n",
       "8    11.5\n",
       "9    11.5\n",
       "Name: VALUE, dtype: float64"
      ]
     },
     "execution_count": 9,
     "metadata": {},
     "output_type": "execute_result"
    }
   ],
   "source": [
    "# Or, by name as a parameter of the DF\n",
    "baseRateData.VALUE[0:10]"
   ]
  },
  {
   "cell_type": "code",
   "execution_count": 10,
   "metadata": {},
   "outputs": [
    {
     "data": {
      "text/plain": [
       "17.0"
      ]
     },
     "execution_count": 10,
     "metadata": {},
     "output_type": "execute_result"
    }
   ],
   "source": [
    "# To get the max value in a column\n",
    "baseRateData['VALUE'].max()"
   ]
  },
  {
   "cell_type": "code",
   "execution_count": 11,
   "metadata": {},
   "outputs": [
    {
     "data": {
      "text/plain": [
       "0.5"
      ]
     },
     "execution_count": 11,
     "metadata": {},
     "output_type": "execute_result"
    }
   ],
   "source": [
    "# To get the min\n",
    "baseRateData['VALUE'].min()"
   ]
  },
  {
   "cell_type": "code",
   "execution_count": 12,
   "metadata": {},
   "outputs": [
    {
     "data": {
      "text/plain": [
       "7.135084884608049"
      ]
     },
     "execution_count": 12,
     "metadata": {},
     "output_type": "execute_result"
    }
   ],
   "source": [
    "# To get the mean\n",
    "baseRateData['VALUE'].mean()"
   ]
  },
  {
   "cell_type": "code",
   "execution_count": 13,
   "metadata": {},
   "outputs": [
    {
     "data": {
      "text/html": [
       "<div>\n",
       "<style>\n",
       "    .dataframe thead tr:only-child th {\n",
       "        text-align: right;\n",
       "    }\n",
       "\n",
       "    .dataframe thead th {\n",
       "        text-align: left;\n",
       "    }\n",
       "\n",
       "    .dataframe tbody tr th {\n",
       "        vertical-align: top;\n",
       "    }\n",
       "</style>\n",
       "<table border=\"1\" class=\"dataframe\">\n",
       "  <thead>\n",
       "    <tr style=\"text-align: right;\">\n",
       "      <th></th>\n",
       "      <th>VALUE</th>\n",
       "      <th>DATE</th>\n",
       "      <th>VALUE_PROP</th>\n",
       "    </tr>\n",
       "  </thead>\n",
       "  <tbody>\n",
       "    <tr>\n",
       "      <th>0</th>\n",
       "      <td>11.5</td>\n",
       "      <td>1/2/1975</td>\n",
       "      <td>0.115</td>\n",
       "    </tr>\n",
       "    <tr>\n",
       "      <th>1</th>\n",
       "      <td>11.5</td>\n",
       "      <td>1/3/1975</td>\n",
       "      <td>0.115</td>\n",
       "    </tr>\n",
       "    <tr>\n",
       "      <th>2</th>\n",
       "      <td>11.5</td>\n",
       "      <td>1/6/1975</td>\n",
       "      <td>0.115</td>\n",
       "    </tr>\n",
       "    <tr>\n",
       "      <th>3</th>\n",
       "      <td>11.5</td>\n",
       "      <td>1/7/1975</td>\n",
       "      <td>0.115</td>\n",
       "    </tr>\n",
       "    <tr>\n",
       "      <th>4</th>\n",
       "      <td>11.5</td>\n",
       "      <td>1/8/1975</td>\n",
       "      <td>0.115</td>\n",
       "    </tr>\n",
       "  </tbody>\n",
       "</table>\n",
       "</div>"
      ],
      "text/plain": [
       "   VALUE      DATE  VALUE_PROP\n",
       "0   11.5  1/2/1975       0.115\n",
       "1   11.5  1/3/1975       0.115\n",
       "2   11.5  1/6/1975       0.115\n",
       "3   11.5  1/7/1975       0.115\n",
       "4   11.5  1/8/1975       0.115"
      ]
     },
     "execution_count": 13,
     "metadata": {},
     "output_type": "execute_result"
    }
   ],
   "source": [
    "# To add a new column to a dataframe, treat it like a dictionary\n",
    "baseRateData['VALUE_PROP'] = baseRateData['VALUE'] / 100\n",
    "\n",
    "baseRateData.head()\n"
   ]
  },
  {
   "cell_type": "code",
   "execution_count": 14,
   "metadata": {},
   "outputs": [
    {
     "data": {
      "text/plain": [
       "10486"
      ]
     },
     "execution_count": 14,
     "metadata": {},
     "output_type": "execute_result"
    }
   ],
   "source": [
    "# Creating a new list with values based on dataframe values\n",
    "colors = []\n",
    "for value in baseRateData['VALUE']:\n",
    "    if value < 5:\n",
    "        colors.append('Green')\n",
    "    else:\n",
    "        colors.append('Red')\n",
    "        \n",
    "len(colors)"
   ]
  },
  {
   "cell_type": "code",
   "execution_count": 15,
   "metadata": {},
   "outputs": [
    {
     "data": {
      "text/html": [
       "<div>\n",
       "<style>\n",
       "    .dataframe thead tr:only-child th {\n",
       "        text-align: right;\n",
       "    }\n",
       "\n",
       "    .dataframe thead th {\n",
       "        text-align: left;\n",
       "    }\n",
       "\n",
       "    .dataframe tbody tr th {\n",
       "        vertical-align: top;\n",
       "    }\n",
       "</style>\n",
       "<table border=\"1\" class=\"dataframe\">\n",
       "  <thead>\n",
       "    <tr style=\"text-align: right;\">\n",
       "      <th></th>\n",
       "      <th>VALUE</th>\n",
       "      <th>DATE</th>\n",
       "      <th>VALUE_PROP</th>\n",
       "      <th>COLORS</th>\n",
       "    </tr>\n",
       "  </thead>\n",
       "  <tbody>\n",
       "    <tr>\n",
       "      <th>0</th>\n",
       "      <td>11.5</td>\n",
       "      <td>1/2/1975</td>\n",
       "      <td>0.115</td>\n",
       "      <td>Red</td>\n",
       "    </tr>\n",
       "    <tr>\n",
       "      <th>1</th>\n",
       "      <td>11.5</td>\n",
       "      <td>1/3/1975</td>\n",
       "      <td>0.115</td>\n",
       "      <td>Red</td>\n",
       "    </tr>\n",
       "    <tr>\n",
       "      <th>2</th>\n",
       "      <td>11.5</td>\n",
       "      <td>1/6/1975</td>\n",
       "      <td>0.115</td>\n",
       "      <td>Red</td>\n",
       "    </tr>\n",
       "    <tr>\n",
       "      <th>3</th>\n",
       "      <td>11.5</td>\n",
       "      <td>1/7/1975</td>\n",
       "      <td>0.115</td>\n",
       "      <td>Red</td>\n",
       "    </tr>\n",
       "    <tr>\n",
       "      <th>4</th>\n",
       "      <td>11.5</td>\n",
       "      <td>1/8/1975</td>\n",
       "      <td>0.115</td>\n",
       "      <td>Red</td>\n",
       "    </tr>\n",
       "  </tbody>\n",
       "</table>\n",
       "</div>"
      ],
      "text/plain": [
       "   VALUE      DATE  VALUE_PROP COLORS\n",
       "0   11.5  1/2/1975       0.115    Red\n",
       "1   11.5  1/3/1975       0.115    Red\n",
       "2   11.5  1/6/1975       0.115    Red\n",
       "3   11.5  1/7/1975       0.115    Red\n",
       "4   11.5  1/8/1975       0.115    Red"
      ]
     },
     "execution_count": 15,
     "metadata": {},
     "output_type": "execute_result"
    }
   ],
   "source": [
    "# Populating a new dataframe column using an array of the same length\n",
    "baseRateData['COLORS'] = colors\n",
    "\n",
    "baseRateData.head()"
   ]
  },
  {
   "cell_type": "code",
   "execution_count": 16,
   "metadata": {},
   "outputs": [
    {
     "data": {
      "text/html": [
       "<div>\n",
       "<style>\n",
       "    .dataframe thead tr:only-child th {\n",
       "        text-align: right;\n",
       "    }\n",
       "\n",
       "    .dataframe thead th {\n",
       "        text-align: left;\n",
       "    }\n",
       "\n",
       "    .dataframe tbody tr th {\n",
       "        vertical-align: top;\n",
       "    }\n",
       "</style>\n",
       "<table border=\"1\" class=\"dataframe\">\n",
       "  <thead>\n",
       "    <tr style=\"text-align: right;\">\n",
       "      <th></th>\n",
       "      <th>Value</th>\n",
       "      <th>Date</th>\n",
       "      <th>value_prop</th>\n",
       "      <th>colors</th>\n",
       "    </tr>\n",
       "  </thead>\n",
       "  <tbody>\n",
       "    <tr>\n",
       "      <th>0</th>\n",
       "      <td>11.5</td>\n",
       "      <td>1/2/1975</td>\n",
       "      <td>0.115</td>\n",
       "      <td>Red</td>\n",
       "    </tr>\n",
       "    <tr>\n",
       "      <th>1</th>\n",
       "      <td>11.5</td>\n",
       "      <td>1/3/1975</td>\n",
       "      <td>0.115</td>\n",
       "      <td>Red</td>\n",
       "    </tr>\n",
       "    <tr>\n",
       "      <th>2</th>\n",
       "      <td>11.5</td>\n",
       "      <td>1/6/1975</td>\n",
       "      <td>0.115</td>\n",
       "      <td>Red</td>\n",
       "    </tr>\n",
       "    <tr>\n",
       "      <th>3</th>\n",
       "      <td>11.5</td>\n",
       "      <td>1/7/1975</td>\n",
       "      <td>0.115</td>\n",
       "      <td>Red</td>\n",
       "    </tr>\n",
       "    <tr>\n",
       "      <th>4</th>\n",
       "      <td>11.5</td>\n",
       "      <td>1/8/1975</td>\n",
       "      <td>0.115</td>\n",
       "      <td>Red</td>\n",
       "    </tr>\n",
       "  </tbody>\n",
       "</table>\n",
       "</div>"
      ],
      "text/plain": [
       "   Value      Date  value_prop colors\n",
       "0   11.5  1/2/1975       0.115    Red\n",
       "1   11.5  1/3/1975       0.115    Red\n",
       "2   11.5  1/6/1975       0.115    Red\n",
       "3   11.5  1/7/1975       0.115    Red\n",
       "4   11.5  1/8/1975       0.115    Red"
      ]
     },
     "execution_count": 16,
     "metadata": {},
     "output_type": "execute_result"
    }
   ],
   "source": [
    "# To rename dataframe columns in place, changing 'inplace' allows you to create a new dataframe\n",
    "baseRateData_r = baseRateData.rename(columns= {'VALUE': 'Value', 'DATE': 'Date', 'VALUE_PROP': 'value_prop', 'COLORS': 'colors'}, \n",
    "                                     inplace = False)\n",
    "baseRateData_r.head()"
   ]
  },
  {
   "cell_type": "code",
   "execution_count": 17,
   "metadata": {},
   "outputs": [
    {
     "data": {
      "text/html": [
       "<div>\n",
       "<style>\n",
       "    .dataframe thead tr:only-child th {\n",
       "        text-align: right;\n",
       "    }\n",
       "\n",
       "    .dataframe thead th {\n",
       "        text-align: left;\n",
       "    }\n",
       "\n",
       "    .dataframe tbody tr th {\n",
       "        vertical-align: top;\n",
       "    }\n",
       "</style>\n",
       "<table border=\"1\" class=\"dataframe\">\n",
       "  <thead>\n",
       "    <tr style=\"text-align: right;\">\n",
       "      <th></th>\n",
       "      <th>Value</th>\n",
       "      <th>Date</th>\n",
       "      <th>value_prop</th>\n",
       "      <th>colors</th>\n",
       "    </tr>\n",
       "    <tr>\n",
       "      <th>Date</th>\n",
       "      <th></th>\n",
       "      <th></th>\n",
       "      <th></th>\n",
       "      <th></th>\n",
       "    </tr>\n",
       "  </thead>\n",
       "  <tbody>\n",
       "    <tr>\n",
       "      <th>1/2/1975</th>\n",
       "      <td>11.5</td>\n",
       "      <td>1/2/1975</td>\n",
       "      <td>0.115</td>\n",
       "      <td>Red</td>\n",
       "    </tr>\n",
       "    <tr>\n",
       "      <th>1/3/1975</th>\n",
       "      <td>11.5</td>\n",
       "      <td>1/3/1975</td>\n",
       "      <td>0.115</td>\n",
       "      <td>Red</td>\n",
       "    </tr>\n",
       "    <tr>\n",
       "      <th>1/6/1975</th>\n",
       "      <td>11.5</td>\n",
       "      <td>1/6/1975</td>\n",
       "      <td>0.115</td>\n",
       "      <td>Red</td>\n",
       "    </tr>\n",
       "    <tr>\n",
       "      <th>1/7/1975</th>\n",
       "      <td>11.5</td>\n",
       "      <td>1/7/1975</td>\n",
       "      <td>0.115</td>\n",
       "      <td>Red</td>\n",
       "    </tr>\n",
       "    <tr>\n",
       "      <th>1/8/1975</th>\n",
       "      <td>11.5</td>\n",
       "      <td>1/8/1975</td>\n",
       "      <td>0.115</td>\n",
       "      <td>Red</td>\n",
       "    </tr>\n",
       "  </tbody>\n",
       "</table>\n",
       "</div>"
      ],
      "text/plain": [
       "          Value      Date  value_prop colors\n",
       "Date                                        \n",
       "1/2/1975   11.5  1/2/1975       0.115    Red\n",
       "1/3/1975   11.5  1/3/1975       0.115    Red\n",
       "1/6/1975   11.5  1/6/1975       0.115    Red\n",
       "1/7/1975   11.5  1/7/1975       0.115    Red\n",
       "1/8/1975   11.5  1/8/1975       0.115    Red"
      ]
     },
     "execution_count": 17,
     "metadata": {},
     "output_type": "execute_result"
    }
   ],
   "source": [
    "# To reset the index from being the rowid to one of the columns\n",
    "baseRateData_r.set_index(baseRateData_r['Date'], inplace=True)\n",
    "baseRateData_r.head()"
   ]
  },
  {
   "cell_type": "code",
   "execution_count": 18,
   "metadata": {},
   "outputs": [
    {
     "data": {
      "text/html": [
       "<div>\n",
       "<style>\n",
       "    .dataframe thead tr:only-child th {\n",
       "        text-align: right;\n",
       "    }\n",
       "\n",
       "    .dataframe thead th {\n",
       "        text-align: left;\n",
       "    }\n",
       "\n",
       "    .dataframe tbody tr th {\n",
       "        vertical-align: top;\n",
       "    }\n",
       "</style>\n",
       "<table border=\"1\" class=\"dataframe\">\n",
       "  <thead>\n",
       "    <tr style=\"text-align: right;\">\n",
       "      <th></th>\n",
       "      <th>Value</th>\n",
       "    </tr>\n",
       "    <tr>\n",
       "      <th>Date</th>\n",
       "      <th></th>\n",
       "    </tr>\n",
       "  </thead>\n",
       "  <tbody>\n",
       "    <tr>\n",
       "      <th>1/2/1975</th>\n",
       "      <td>11.5</td>\n",
       "    </tr>\n",
       "    <tr>\n",
       "      <th>1/3/1975</th>\n",
       "      <td>11.5</td>\n",
       "    </tr>\n",
       "    <tr>\n",
       "      <th>1/6/1975</th>\n",
       "      <td>11.5</td>\n",
       "    </tr>\n",
       "    <tr>\n",
       "      <th>1/7/1975</th>\n",
       "      <td>11.5</td>\n",
       "    </tr>\n",
       "    <tr>\n",
       "      <th>1/8/1975</th>\n",
       "      <td>11.5</td>\n",
       "    </tr>\n",
       "  </tbody>\n",
       "</table>\n",
       "</div>"
      ],
      "text/plain": [
       "          Value\n",
       "Date           \n",
       "1/2/1975   11.5\n",
       "1/3/1975   11.5\n",
       "1/6/1975   11.5\n",
       "1/7/1975   11.5\n",
       "1/8/1975   11.5"
      ]
     },
     "execution_count": 18,
     "metadata": {},
     "output_type": "execute_result"
    }
   ],
   "source": [
    "# To drop columns, specify a list by column name and \"axis = 1\"\n",
    "baseRateData_r.drop(axis=1, labels=['Date', 'value_prop', 'colors'], inplace=True)\n",
    "baseRateData_r.head()"
   ]
  },
  {
   "cell_type": "code",
   "execution_count": 19,
   "metadata": {},
   "outputs": [
    {
     "data": {
      "text/html": [
       "<div>\n",
       "<style>\n",
       "    .dataframe thead tr:only-child th {\n",
       "        text-align: right;\n",
       "    }\n",
       "\n",
       "    .dataframe thead th {\n",
       "        text-align: left;\n",
       "    }\n",
       "\n",
       "    .dataframe tbody tr th {\n",
       "        vertical-align: top;\n",
       "    }\n",
       "</style>\n",
       "<table border=\"1\" class=\"dataframe\">\n",
       "  <thead>\n",
       "    <tr style=\"text-align: right;\">\n",
       "      <th></th>\n",
       "      <th>VALUE</th>\n",
       "      <th>DATE</th>\n",
       "      <th>VALUE_PROP</th>\n",
       "      <th>COLORS</th>\n",
       "    </tr>\n",
       "  </thead>\n",
       "  <tbody>\n",
       "    <tr>\n",
       "      <th>0</th>\n",
       "      <td>11.5</td>\n",
       "      <td>1/2/1975</td>\n",
       "      <td>0.115</td>\n",
       "      <td>Red</td>\n",
       "    </tr>\n",
       "    <tr>\n",
       "      <th>1</th>\n",
       "      <td>11.5</td>\n",
       "      <td>1/3/1975</td>\n",
       "      <td>0.115</td>\n",
       "      <td>Red</td>\n",
       "    </tr>\n",
       "    <tr>\n",
       "      <th>2</th>\n",
       "      <td>11.5</td>\n",
       "      <td>1/6/1975</td>\n",
       "      <td>0.115</td>\n",
       "      <td>Red</td>\n",
       "    </tr>\n",
       "    <tr>\n",
       "      <th>3</th>\n",
       "      <td>11.5</td>\n",
       "      <td>1/7/1975</td>\n",
       "      <td>0.115</td>\n",
       "      <td>Red</td>\n",
       "    </tr>\n",
       "    <tr>\n",
       "      <th>4</th>\n",
       "      <td>11.5</td>\n",
       "      <td>1/8/1975</td>\n",
       "      <td>0.115</td>\n",
       "      <td>Red</td>\n",
       "    </tr>\n",
       "  </tbody>\n",
       "</table>\n",
       "</div>"
      ],
      "text/plain": [
       "   VALUE      DATE  VALUE_PROP COLORS\n",
       "0   11.5  1/2/1975       0.115    Red\n",
       "1   11.5  1/3/1975       0.115    Red\n",
       "2   11.5  1/6/1975       0.115    Red\n",
       "3   11.5  1/7/1975       0.115    Red\n",
       "4   11.5  1/8/1975       0.115    Red"
      ]
     },
     "execution_count": 19,
     "metadata": {},
     "output_type": "execute_result"
    }
   ],
   "source": [
    "baseRateData.head()"
   ]
  },
  {
   "cell_type": "code",
   "execution_count": 20,
   "metadata": {},
   "outputs": [
    {
     "data": {
      "text/html": [
       "<div>\n",
       "<style>\n",
       "    .dataframe thead tr:only-child th {\n",
       "        text-align: right;\n",
       "    }\n",
       "\n",
       "    .dataframe thead th {\n",
       "        text-align: left;\n",
       "    }\n",
       "\n",
       "    .dataframe tbody tr th {\n",
       "        vertical-align: top;\n",
       "    }\n",
       "</style>\n",
       "<table border=\"1\" class=\"dataframe\">\n",
       "  <thead>\n",
       "    <tr style=\"text-align: right;\">\n",
       "      <th></th>\n",
       "      <th>VALUE</th>\n",
       "      <th>DATE</th>\n",
       "      <th>VALUE_PROP</th>\n",
       "      <th>COLORS</th>\n",
       "    </tr>\n",
       "  </thead>\n",
       "  <tbody>\n",
       "    <tr>\n",
       "      <th>0</th>\n",
       "      <td>11.5</td>\n",
       "      <td>1/2/1975</td>\n",
       "      <td>0.115</td>\n",
       "      <td>Red</td>\n",
       "    </tr>\n",
       "    <tr>\n",
       "      <th>1</th>\n",
       "      <td>11.5</td>\n",
       "      <td>1/3/1975</td>\n",
       "      <td>0.115</td>\n",
       "      <td>Red</td>\n",
       "    </tr>\n",
       "    <tr>\n",
       "      <th>2</th>\n",
       "      <td>11.5</td>\n",
       "      <td>1/6/1975</td>\n",
       "      <td>0.115</td>\n",
       "      <td>Red</td>\n",
       "    </tr>\n",
       "    <tr>\n",
       "      <th>3</th>\n",
       "      <td>11.5</td>\n",
       "      <td>1/7/1975</td>\n",
       "      <td>0.115</td>\n",
       "      <td>Red</td>\n",
       "    </tr>\n",
       "    <tr>\n",
       "      <th>4</th>\n",
       "      <td>11.5</td>\n",
       "      <td>1/8/1975</td>\n",
       "      <td>0.115</td>\n",
       "      <td>Red</td>\n",
       "    </tr>\n",
       "    <tr>\n",
       "      <th>5</th>\n",
       "      <td>11.5</td>\n",
       "      <td>1/9/1975</td>\n",
       "      <td>0.115</td>\n",
       "      <td>Red</td>\n",
       "    </tr>\n",
       "    <tr>\n",
       "      <th>6</th>\n",
       "      <td>11.5</td>\n",
       "      <td>1/10/1975</td>\n",
       "      <td>0.115</td>\n",
       "      <td>Red</td>\n",
       "    </tr>\n",
       "  </tbody>\n",
       "</table>\n",
       "</div>"
      ],
      "text/plain": [
       "   VALUE       DATE  VALUE_PROP COLORS\n",
       "0   11.5   1/2/1975       0.115    Red\n",
       "1   11.5   1/3/1975       0.115    Red\n",
       "2   11.5   1/6/1975       0.115    Red\n",
       "3   11.5   1/7/1975       0.115    Red\n",
       "4   11.5   1/8/1975       0.115    Red\n",
       "5   11.5   1/9/1975       0.115    Red\n",
       "6   11.5  1/10/1975       0.115    Red"
      ]
     },
     "execution_count": 20,
     "metadata": {},
     "output_type": "execute_result"
    }
   ],
   "source": [
    "# Selecting data from within Pandas using the index column, first using the default rowid based index\n",
    "baseRateData.loc[0:6]"
   ]
  },
  {
   "cell_type": "code",
   "execution_count": 21,
   "metadata": {},
   "outputs": [
    {
     "data": {
      "text/html": [
       "<div>\n",
       "<style>\n",
       "    .dataframe thead tr:only-child th {\n",
       "        text-align: right;\n",
       "    }\n",
       "\n",
       "    .dataframe thead th {\n",
       "        text-align: left;\n",
       "    }\n",
       "\n",
       "    .dataframe tbody tr th {\n",
       "        vertical-align: top;\n",
       "    }\n",
       "</style>\n",
       "<table border=\"1\" class=\"dataframe\">\n",
       "  <thead>\n",
       "    <tr style=\"text-align: right;\">\n",
       "      <th></th>\n",
       "      <th>Value</th>\n",
       "    </tr>\n",
       "    <tr>\n",
       "      <th>Date</th>\n",
       "      <th></th>\n",
       "    </tr>\n",
       "  </thead>\n",
       "  <tbody>\n",
       "    <tr>\n",
       "      <th>1/2/1975</th>\n",
       "      <td>11.5</td>\n",
       "    </tr>\n",
       "    <tr>\n",
       "      <th>1/3/1975</th>\n",
       "      <td>11.5</td>\n",
       "    </tr>\n",
       "    <tr>\n",
       "      <th>1/6/1975</th>\n",
       "      <td>11.5</td>\n",
       "    </tr>\n",
       "    <tr>\n",
       "      <th>1/7/1975</th>\n",
       "      <td>11.5</td>\n",
       "    </tr>\n",
       "    <tr>\n",
       "      <th>1/8/1975</th>\n",
       "      <td>11.5</td>\n",
       "    </tr>\n",
       "    <tr>\n",
       "      <th>1/9/1975</th>\n",
       "      <td>11.5</td>\n",
       "    </tr>\n",
       "    <tr>\n",
       "      <th>1/10/1975</th>\n",
       "      <td>11.5</td>\n",
       "    </tr>\n",
       "  </tbody>\n",
       "</table>\n",
       "</div>"
      ],
      "text/plain": [
       "           Value\n",
       "Date            \n",
       "1/2/1975    11.5\n",
       "1/3/1975    11.5\n",
       "1/6/1975    11.5\n",
       "1/7/1975    11.5\n",
       "1/8/1975    11.5\n",
       "1/9/1975    11.5\n",
       "1/10/1975   11.5"
      ]
     },
     "execution_count": 21,
     "metadata": {},
     "output_type": "execute_result"
    }
   ],
   "source": [
    "# Now selecting data by using a range of dates from the date-based index\n",
    "baseRateData_r.loc['1/2/1975':'1/10/1975']"
   ]
  },
  {
   "cell_type": "code",
   "execution_count": 22,
   "metadata": {},
   "outputs": [
    {
     "name": "stdout",
     "output_type": "stream",
     "text": [
      "   VALUE      DATE  VALUE_PROP COLORS\n",
      "0   11.5  1/2/1975       0.115    Red\n",
      "1   11.5  1/3/1975       0.115    Red\n",
      "2   11.5  1/6/1975       0.115    Red\n",
      "3   11.5  1/7/1975       0.115    Red\n",
      "          Value\n",
      "Date           \n",
      "1/2/1975   11.5\n",
      "1/3/1975   11.5\n",
      "1/6/1975   11.5\n",
      "1/7/1975   11.5\n"
     ]
    }
   ],
   "source": [
    "# using .iloc always uses index location, even when the dataframe index is not a row_id\n",
    "print(baseRateData.iloc[:4])\n",
    "print(baseRateData_r.iloc[:4])"
   ]
  },
  {
   "cell_type": "code",
   "execution_count": 23,
   "metadata": {},
   "outputs": [
    {
     "name": "stdout",
     "output_type": "stream",
     "text": [
      "   VALUE      DATE\n",
      "0   11.5  1/2/1975\n",
      "1   11.5  1/3/1975\n",
      "2   11.5  1/6/1975\n",
      "3   11.5  1/7/1975 \n",
      "\n",
      "          Value\n",
      "Date           \n",
      "1/2/1975   11.5\n",
      "1/3/1975   11.5\n",
      "1/6/1975   11.5\n",
      "1/7/1975   11.5\n"
     ]
    }
   ],
   "source": [
    "# We can also select a subset of columns and rows by slicing in 2D. \n",
    "# Here we select the 1st 4 rows and 1st 2 columns (NOTE: that the index counts as a column)\n",
    "print(baseRateData.iloc[:4,:2],'\\n')\n",
    "\n",
    "print(baseRateData_r.iloc[:4,:1])"
   ]
  },
  {
   "cell_type": "code",
   "execution_count": 24,
   "metadata": {},
   "outputs": [
    {
     "name": "stdout",
     "output_type": "stream",
     "text": [
      "       DATE  VALUE_PROP COLORS\n",
      "0  1/2/1975       0.115    Red\n",
      "1  1/3/1975       0.115    Red\n",
      "2  1/6/1975       0.115    Red\n",
      "3  1/7/1975       0.115    Red\n",
      "4  1/8/1975       0.115    Red \n",
      "\n"
     ]
    },
    {
     "data": {
      "text/plain": [
       "Date\n",
       "1/2/1975    11.5\n",
       "1/3/1975    11.5\n",
       "1/6/1975    11.5\n",
       "1/7/1975    11.5\n",
       "1/8/1975    11.5\n",
       "Name: Value, dtype: float64"
      ]
     },
     "execution_count": 24,
     "metadata": {},
     "output_type": "execute_result"
    }
   ],
   "source": [
    "# This also works with .loc by using the column names\n",
    "print(baseRateData.loc[:4, 'DATE':'COLORS'],'\\n') # 1st 5 rows, all columns from DATE to COLORS\n",
    "\n",
    "baseRateData_r.loc['1/2/1975':'1/8/1975','Value'] # rows from Jan 1 - Jan 8 1975, 'Value' column only"
   ]
  },
  {
   "cell_type": "code",
   "execution_count": 25,
   "metadata": {},
   "outputs": [
    {
     "data": {
      "text/html": [
       "<div>\n",
       "<style>\n",
       "    .dataframe thead tr:only-child th {\n",
       "        text-align: right;\n",
       "    }\n",
       "\n",
       "    .dataframe thead th {\n",
       "        text-align: left;\n",
       "    }\n",
       "\n",
       "    .dataframe tbody tr th {\n",
       "        vertical-align: top;\n",
       "    }\n",
       "</style>\n",
       "<table border=\"1\" class=\"dataframe\">\n",
       "  <thead>\n",
       "    <tr style=\"text-align: right;\">\n",
       "      <th></th>\n",
       "      <th>VALUE</th>\n",
       "      <th>DATE</th>\n",
       "      <th>VALUE_PROP</th>\n",
       "      <th>COLORS</th>\n",
       "    </tr>\n",
       "  </thead>\n",
       "  <tbody>\n",
       "    <tr>\n",
       "      <th>0</th>\n",
       "      <td>11.50</td>\n",
       "      <td>1/2/1975</td>\n",
       "      <td>0.1150</td>\n",
       "      <td>Blue</td>\n",
       "    </tr>\n",
       "    <tr>\n",
       "      <th>1</th>\n",
       "      <td>11.50</td>\n",
       "      <td>1/3/1975</td>\n",
       "      <td>0.1150</td>\n",
       "      <td>Blue</td>\n",
       "    </tr>\n",
       "    <tr>\n",
       "      <th>2</th>\n",
       "      <td>11.50</td>\n",
       "      <td>1/6/1975</td>\n",
       "      <td>0.1150</td>\n",
       "      <td>Blue</td>\n",
       "    </tr>\n",
       "    <tr>\n",
       "      <th>3</th>\n",
       "      <td>11.50</td>\n",
       "      <td>1/7/1975</td>\n",
       "      <td>0.1150</td>\n",
       "      <td>Blue</td>\n",
       "    </tr>\n",
       "    <tr>\n",
       "      <th>4</th>\n",
       "      <td>11.50</td>\n",
       "      <td>1/8/1975</td>\n",
       "      <td>0.1150</td>\n",
       "      <td>Blue</td>\n",
       "    </tr>\n",
       "    <tr>\n",
       "      <th>5</th>\n",
       "      <td>11.50</td>\n",
       "      <td>1/9/1975</td>\n",
       "      <td>0.1150</td>\n",
       "      <td>Blue</td>\n",
       "    </tr>\n",
       "    <tr>\n",
       "      <th>6</th>\n",
       "      <td>11.50</td>\n",
       "      <td>1/10/1975</td>\n",
       "      <td>0.1150</td>\n",
       "      <td>Blue</td>\n",
       "    </tr>\n",
       "    <tr>\n",
       "      <th>7</th>\n",
       "      <td>11.50</td>\n",
       "      <td>1/13/1975</td>\n",
       "      <td>0.1150</td>\n",
       "      <td>Blue</td>\n",
       "    </tr>\n",
       "    <tr>\n",
       "      <th>8</th>\n",
       "      <td>11.50</td>\n",
       "      <td>1/14/1975</td>\n",
       "      <td>0.1150</td>\n",
       "      <td>Blue</td>\n",
       "    </tr>\n",
       "    <tr>\n",
       "      <th>9</th>\n",
       "      <td>11.50</td>\n",
       "      <td>1/15/1975</td>\n",
       "      <td>0.1150</td>\n",
       "      <td>Blue</td>\n",
       "    </tr>\n",
       "    <tr>\n",
       "      <th>10</th>\n",
       "      <td>11.50</td>\n",
       "      <td>1/16/1975</td>\n",
       "      <td>0.1150</td>\n",
       "      <td>Blue</td>\n",
       "    </tr>\n",
       "    <tr>\n",
       "      <th>11</th>\n",
       "      <td>11.50</td>\n",
       "      <td>1/17/1975</td>\n",
       "      <td>0.1150</td>\n",
       "      <td>Blue</td>\n",
       "    </tr>\n",
       "    <tr>\n",
       "      <th>12</th>\n",
       "      <td>11.25</td>\n",
       "      <td>1/20/1975</td>\n",
       "      <td>0.1125</td>\n",
       "      <td>Blue</td>\n",
       "    </tr>\n",
       "    <tr>\n",
       "      <th>13</th>\n",
       "      <td>11.25</td>\n",
       "      <td>1/21/1975</td>\n",
       "      <td>0.1125</td>\n",
       "      <td>Blue</td>\n",
       "    </tr>\n",
       "    <tr>\n",
       "      <th>14</th>\n",
       "      <td>11.25</td>\n",
       "      <td>1/22/1975</td>\n",
       "      <td>0.1125</td>\n",
       "      <td>Blue</td>\n",
       "    </tr>\n",
       "    <tr>\n",
       "      <th>15</th>\n",
       "      <td>11.25</td>\n",
       "      <td>1/23/1975</td>\n",
       "      <td>0.1125</td>\n",
       "      <td>Blue</td>\n",
       "    </tr>\n",
       "    <tr>\n",
       "      <th>16</th>\n",
       "      <td>11.25</td>\n",
       "      <td>1/24/1975</td>\n",
       "      <td>0.1125</td>\n",
       "      <td>Blue</td>\n",
       "    </tr>\n",
       "    <tr>\n",
       "      <th>17</th>\n",
       "      <td>11.00</td>\n",
       "      <td>1/27/1975</td>\n",
       "      <td>0.1100</td>\n",
       "      <td>Blue</td>\n",
       "    </tr>\n",
       "    <tr>\n",
       "      <th>18</th>\n",
       "      <td>11.00</td>\n",
       "      <td>1/28/1975</td>\n",
       "      <td>0.1100</td>\n",
       "      <td>Blue</td>\n",
       "    </tr>\n",
       "    <tr>\n",
       "      <th>19</th>\n",
       "      <td>11.00</td>\n",
       "      <td>1/29/1975</td>\n",
       "      <td>0.1100</td>\n",
       "      <td>Blue</td>\n",
       "    </tr>\n",
       "    <tr>\n",
       "      <th>20</th>\n",
       "      <td>11.00</td>\n",
       "      <td>1/30/1975</td>\n",
       "      <td>0.1100</td>\n",
       "      <td>Red</td>\n",
       "    </tr>\n",
       "    <tr>\n",
       "      <th>21</th>\n",
       "      <td>11.00</td>\n",
       "      <td>1/31/1975</td>\n",
       "      <td>0.1100</td>\n",
       "      <td>Red</td>\n",
       "    </tr>\n",
       "  </tbody>\n",
       "</table>\n",
       "</div>"
      ],
      "text/plain": [
       "    VALUE       DATE  VALUE_PROP COLORS\n",
       "0   11.50   1/2/1975      0.1150   Blue\n",
       "1   11.50   1/3/1975      0.1150   Blue\n",
       "2   11.50   1/6/1975      0.1150   Blue\n",
       "3   11.50   1/7/1975      0.1150   Blue\n",
       "4   11.50   1/8/1975      0.1150   Blue\n",
       "5   11.50   1/9/1975      0.1150   Blue\n",
       "6   11.50  1/10/1975      0.1150   Blue\n",
       "7   11.50  1/13/1975      0.1150   Blue\n",
       "8   11.50  1/14/1975      0.1150   Blue\n",
       "9   11.50  1/15/1975      0.1150   Blue\n",
       "10  11.50  1/16/1975      0.1150   Blue\n",
       "11  11.50  1/17/1975      0.1150   Blue\n",
       "12  11.25  1/20/1975      0.1125   Blue\n",
       "13  11.25  1/21/1975      0.1125   Blue\n",
       "14  11.25  1/22/1975      0.1125   Blue\n",
       "15  11.25  1/23/1975      0.1125   Blue\n",
       "16  11.25  1/24/1975      0.1125   Blue\n",
       "17  11.00  1/27/1975      0.1100   Blue\n",
       "18  11.00  1/28/1975      0.1100   Blue\n",
       "19  11.00  1/29/1975      0.1100   Blue\n",
       "20  11.00  1/30/1975      0.1100    Red\n",
       "21  11.00  1/31/1975      0.1100    Red"
      ]
     },
     "execution_count": 25,
     "metadata": {},
     "output_type": "execute_result"
    }
   ],
   "source": [
    "# One convenient thing this allows you to do is reset values.\n",
    "# Convert first 20 rows COLOR from Red to Blue\n",
    "baseRateData.loc[:19, 'COLORS'] = 'Blue'\n",
    "baseRateData.head(22)"
   ]
  }
 ],
 "metadata": {
  "kernelspec": {
   "display_name": "Python 3",
   "language": "python",
   "name": "python3"
  },
  "language_info": {
   "codemirror_mode": {
    "name": "ipython",
    "version": 3
   },
   "file_extension": ".py",
   "mimetype": "text/x-python",
   "name": "python",
   "nbconvert_exporter": "python",
   "pygments_lexer": "ipython3",
   "version": "3.6.3"
  }
 },
 "nbformat": 4,
 "nbformat_minor": 2
}

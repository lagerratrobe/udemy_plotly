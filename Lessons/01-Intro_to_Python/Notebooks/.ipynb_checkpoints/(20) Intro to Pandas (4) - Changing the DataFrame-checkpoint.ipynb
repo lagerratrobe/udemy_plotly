{
 "cells": [
  {
   "cell_type": "markdown",
   "metadata": {},
   "source": [
    "# Intro to Pandas (4) - Changing the DataFrame"
   ]
  },
  {
   "cell_type": "markdown",
   "metadata": {},
   "source": [
    "In the last lesson we saw how to create new columns in a DataFrame.\n",
    "\n",
    "In this lesson we'll learn how to change the DataFrame itself; how to rename and drop columns, as well as how to set the index."
   ]
  },
  {
   "cell_type": "markdown",
   "metadata": {},
   "source": [
    "## Module Imports"
   ]
  },
  {
   "cell_type": "code",
   "execution_count": 1,
   "metadata": {
    "collapsed": false
   },
   "outputs": [],
   "source": [
    "#plotly.offline doesn't push your charts to the clouds\n",
    "import plotly.offline as pyo\n",
    "#allows us to create the Data and Figure objects\n",
    "from plotly.graph_objs import *\n",
    "#plotly.plotly pushes your charts to the cloud  \n",
    "import plotly.plotly as py\n",
    "\n",
    "#pandas is a data analysis library\n",
    "import pandas as pd\n",
    "from pandas import DataFrame"
   ]
  },
  {
   "cell_type": "markdown",
   "metadata": {},
   "source": [
    "## Making Changes to a DataFrame\n",
    "\n",
    "First of all, I'm going to read some data into a DataFrame:"
   ]
  },
  {
   "cell_type": "code",
   "execution_count": 2,
   "metadata": {
    "collapsed": false
   },
   "outputs": [
    {
     "data": {
      "text/html": [
       "<div>\n",
       "<table border=\"1\" class=\"dataframe\">\n",
       "  <thead>\n",
       "    <tr style=\"text-align: right;\">\n",
       "      <th></th>\n",
       "      <th>VALUE</th>\n",
       "      <th>DATE</th>\n",
       "    </tr>\n",
       "  </thead>\n",
       "  <tbody>\n",
       "    <tr>\n",
       "      <th>0</th>\n",
       "      <td>11.5</td>\n",
       "      <td>02/01/1975</td>\n",
       "    </tr>\n",
       "    <tr>\n",
       "      <th>1</th>\n",
       "      <td>11.5</td>\n",
       "      <td>03/01/1975</td>\n",
       "    </tr>\n",
       "    <tr>\n",
       "      <th>2</th>\n",
       "      <td>11.5</td>\n",
       "      <td>06/01/1975</td>\n",
       "    </tr>\n",
       "    <tr>\n",
       "      <th>3</th>\n",
       "      <td>11.5</td>\n",
       "      <td>07/01/1975</td>\n",
       "    </tr>\n",
       "    <tr>\n",
       "      <th>4</th>\n",
       "      <td>11.5</td>\n",
       "      <td>08/01/1975</td>\n",
       "    </tr>\n",
       "  </tbody>\n",
       "</table>\n",
       "</div>"
      ],
      "text/plain": [
       "   VALUE        DATE\n",
       "0   11.5  02/01/1975\n",
       "1   11.5  03/01/1975\n",
       "2   11.5  06/01/1975\n",
       "3   11.5  07/01/1975\n",
       "4   11.5  08/01/1975"
      ]
     },
     "execution_count": 2,
     "metadata": {},
     "output_type": "execute_result"
    }
   ],
   "source": [
    "baseRateData = pd.read_csv(\"http://www.richard-muir.com/data/public/csv/BoEBaseRate.csv\")\n",
    "\n",
    "baseRateData.head()"
   ]
  },
  {
   "cell_type": "markdown",
   "metadata": {},
   "source": [
    "We can rename columns in a DataFrame by using the <code>df.rename()</code> function. To this function, we must pass a dictionary where the key is the old column name, and the value is the new column name.\n",
    "\n",
    "We can choose to rename the columns in the DataFrame <code>inplace</code> - this modifies the original object. Here I'm changing the column names to be lowercase:"
   ]
  },
  {
   "cell_type": "code",
   "execution_count": 3,
   "metadata": {
    "collapsed": false
   },
   "outputs": [
    {
     "data": {
      "text/html": [
       "<div>\n",
       "<table border=\"1\" class=\"dataframe\">\n",
       "  <thead>\n",
       "    <tr style=\"text-align: right;\">\n",
       "      <th></th>\n",
       "      <th>value</th>\n",
       "      <th>date</th>\n",
       "    </tr>\n",
       "  </thead>\n",
       "  <tbody>\n",
       "    <tr>\n",
       "      <th>0</th>\n",
       "      <td>11.5</td>\n",
       "      <td>02/01/1975</td>\n",
       "    </tr>\n",
       "    <tr>\n",
       "      <th>1</th>\n",
       "      <td>11.5</td>\n",
       "      <td>03/01/1975</td>\n",
       "    </tr>\n",
       "    <tr>\n",
       "      <th>2</th>\n",
       "      <td>11.5</td>\n",
       "      <td>06/01/1975</td>\n",
       "    </tr>\n",
       "    <tr>\n",
       "      <th>3</th>\n",
       "      <td>11.5</td>\n",
       "      <td>07/01/1975</td>\n",
       "    </tr>\n",
       "    <tr>\n",
       "      <th>4</th>\n",
       "      <td>11.5</td>\n",
       "      <td>08/01/1975</td>\n",
       "    </tr>\n",
       "  </tbody>\n",
       "</table>\n",
       "</div>"
      ],
      "text/plain": [
       "   value        date\n",
       "0   11.5  02/01/1975\n",
       "1   11.5  03/01/1975\n",
       "2   11.5  06/01/1975\n",
       "3   11.5  07/01/1975\n",
       "4   11.5  08/01/1975"
      ]
     },
     "execution_count": 3,
     "metadata": {},
     "output_type": "execute_result"
    }
   ],
   "source": [
    "baseRateData.rename(columns = {'VALUE' : 'value', 'DATE' : 'date'}, inplace=True)\n",
    "\n",
    "baseRateData.head()"
   ]
  },
  {
   "cell_type": "markdown",
   "metadata": {},
   "source": [
    "If you're creating a new object from the DataFrame, you don't need to do it rename the columns <code>inplace</code>:"
   ]
  },
  {
   "cell_type": "code",
   "execution_count": 4,
   "metadata": {
    "collapsed": false,
    "scrolled": true
   },
   "outputs": [
    {
     "data": {
      "text/html": [
       "<div>\n",
       "<table border=\"1\" class=\"dataframe\">\n",
       "  <thead>\n",
       "    <tr style=\"text-align: right;\">\n",
       "      <th></th>\n",
       "      <th>Value</th>\n",
       "      <th>Date</th>\n",
       "    </tr>\n",
       "  </thead>\n",
       "  <tbody>\n",
       "    <tr>\n",
       "      <th>0</th>\n",
       "      <td>11.5</td>\n",
       "      <td>02/01/1975</td>\n",
       "    </tr>\n",
       "    <tr>\n",
       "      <th>1</th>\n",
       "      <td>11.5</td>\n",
       "      <td>03/01/1975</td>\n",
       "    </tr>\n",
       "    <tr>\n",
       "      <th>2</th>\n",
       "      <td>11.5</td>\n",
       "      <td>06/01/1975</td>\n",
       "    </tr>\n",
       "    <tr>\n",
       "      <th>3</th>\n",
       "      <td>11.5</td>\n",
       "      <td>07/01/1975</td>\n",
       "    </tr>\n",
       "    <tr>\n",
       "      <th>4</th>\n",
       "      <td>11.5</td>\n",
       "      <td>08/01/1975</td>\n",
       "    </tr>\n",
       "  </tbody>\n",
       "</table>\n",
       "</div>"
      ],
      "text/plain": [
       "   Value        Date\n",
       "0   11.5  02/01/1975\n",
       "1   11.5  03/01/1975\n",
       "2   11.5  06/01/1975\n",
       "3   11.5  07/01/1975\n",
       "4   11.5  08/01/1975"
      ]
     },
     "execution_count": 4,
     "metadata": {},
     "output_type": "execute_result"
    }
   ],
   "source": [
    "baseRateData_r = baseRateData.rename(columns = {'value' : 'Value', 'date' : 'Date'})\n",
    "\n",
    "baseRateData_r.head()"
   ]
  },
  {
   "cell_type": "markdown",
   "metadata": {},
   "source": [
    "We can also change the index of the DataFrame, this is helpful to do when we want to merge a DataFrame, or to use the index to select locations.\n",
    "\n",
    "Here I'm changing the index to be the Date column using the <code>df.set_index()</code> method. I'm doing this <code>inplace</code> because I don't want to create a new object."
   ]
  },
  {
   "cell_type": "code",
   "execution_count": 5,
   "metadata": {
    "collapsed": false
   },
   "outputs": [
    {
     "data": {
      "text/html": [
       "<div>\n",
       "<table border=\"1\" class=\"dataframe\">\n",
       "  <thead>\n",
       "    <tr style=\"text-align: right;\">\n",
       "      <th></th>\n",
       "      <th>Value</th>\n",
       "      <th>Date</th>\n",
       "    </tr>\n",
       "    <tr>\n",
       "      <th>Date</th>\n",
       "      <th></th>\n",
       "      <th></th>\n",
       "    </tr>\n",
       "  </thead>\n",
       "  <tbody>\n",
       "    <tr>\n",
       "      <th>02/01/1975</th>\n",
       "      <td>11.5</td>\n",
       "      <td>02/01/1975</td>\n",
       "    </tr>\n",
       "    <tr>\n",
       "      <th>03/01/1975</th>\n",
       "      <td>11.5</td>\n",
       "      <td>03/01/1975</td>\n",
       "    </tr>\n",
       "    <tr>\n",
       "      <th>06/01/1975</th>\n",
       "      <td>11.5</td>\n",
       "      <td>06/01/1975</td>\n",
       "    </tr>\n",
       "    <tr>\n",
       "      <th>07/01/1975</th>\n",
       "      <td>11.5</td>\n",
       "      <td>07/01/1975</td>\n",
       "    </tr>\n",
       "    <tr>\n",
       "      <th>08/01/1975</th>\n",
       "      <td>11.5</td>\n",
       "      <td>08/01/1975</td>\n",
       "    </tr>\n",
       "  </tbody>\n",
       "</table>\n",
       "</div>"
      ],
      "text/plain": [
       "            Value        Date\n",
       "Date                         \n",
       "02/01/1975   11.5  02/01/1975\n",
       "03/01/1975   11.5  03/01/1975\n",
       "06/01/1975   11.5  06/01/1975\n",
       "07/01/1975   11.5  07/01/1975\n",
       "08/01/1975   11.5  08/01/1975"
      ]
     },
     "execution_count": 5,
     "metadata": {},
     "output_type": "execute_result"
    }
   ],
   "source": [
    "baseRateData_r.set_index(baseRateData_r['Date'], inplace=True)\n",
    "\n",
    "baseRateData_r.head()"
   ]
  },
  {
   "cell_type": "markdown",
   "metadata": {},
   "source": [
    "We can also drop columns by using the <code>df.drop()</code> method. \n",
    "\n",
    "Because we have the information about the Date contained in the index I'm now going to drop the Date column to save memory. I have to tell Pandas to drop a column by using <code>axis = 1</code> (<code>axis = 0</code> tells Pandas to drop a row).\n",
    "\n",
    "Once again I don't want to create a new object, so I'll drop this column <code>inplace</code>:"
   ]
  },
  {
   "cell_type": "code",
   "execution_count": 6,
   "metadata": {
    "collapsed": false
   },
   "outputs": [
    {
     "data": {
      "text/html": [
       "<div>\n",
       "<table border=\"1\" class=\"dataframe\">\n",
       "  <thead>\n",
       "    <tr style=\"text-align: right;\">\n",
       "      <th></th>\n",
       "      <th>Value</th>\n",
       "    </tr>\n",
       "    <tr>\n",
       "      <th>Date</th>\n",
       "      <th></th>\n",
       "    </tr>\n",
       "  </thead>\n",
       "  <tbody>\n",
       "    <tr>\n",
       "      <th>02/01/1975</th>\n",
       "      <td>11.5</td>\n",
       "    </tr>\n",
       "    <tr>\n",
       "      <th>03/01/1975</th>\n",
       "      <td>11.5</td>\n",
       "    </tr>\n",
       "    <tr>\n",
       "      <th>06/01/1975</th>\n",
       "      <td>11.5</td>\n",
       "    </tr>\n",
       "    <tr>\n",
       "      <th>07/01/1975</th>\n",
       "      <td>11.5</td>\n",
       "    </tr>\n",
       "    <tr>\n",
       "      <th>08/01/1975</th>\n",
       "      <td>11.5</td>\n",
       "    </tr>\n",
       "  </tbody>\n",
       "</table>\n",
       "</div>"
      ],
      "text/plain": [
       "            Value\n",
       "Date             \n",
       "02/01/1975   11.5\n",
       "03/01/1975   11.5\n",
       "06/01/1975   11.5\n",
       "07/01/1975   11.5\n",
       "08/01/1975   11.5"
      ]
     },
     "execution_count": 6,
     "metadata": {},
     "output_type": "execute_result"
    }
   ],
   "source": [
    "baseRateData_r.drop(['Date'], axis = 1, inplace = True)\n",
    "\n",
    "baseRateData_r.head()"
   ]
  },
  {
   "cell_type": "markdown",
   "metadata": {},
   "source": [
    "### What have we learnt this lesson?"
   ]
  },
  {
   "cell_type": "markdown",
   "metadata": {},
   "source": [
    "In this lesson we've seen how to make changes to the DataFrame itself; learning how to rename and drop columns, how to set the index and how to do this inplace or by creating a new object. \n",
    "\n",
    "In the next lesson we'll see how to access rows and columns by their label and position, and to use this positional selection to make changes to the data in the DataFrame."
   ]
  },
  {
   "cell_type": "markdown",
   "metadata": {},
   "source": [
    "If you have any questions, please ask in the comments section or email <a href=\"mailto:me@richard-muir.com\">me@richard-muir.com</a>"
   ]
  }
 ],
 "metadata": {
  "kernelspec": {
   "display_name": "Python 3",
   "language": "python",
   "name": "python3"
  },
  "language_info": {
   "codemirror_mode": {
    "name": "ipython",
    "version": 3
   },
   "file_extension": ".py",
   "mimetype": "text/x-python",
   "name": "python",
   "nbconvert_exporter": "python",
   "pygments_lexer": "ipython3",
   "version": "3.4.5"
  }
 },
 "nbformat": 4,
 "nbformat_minor": 0
}
